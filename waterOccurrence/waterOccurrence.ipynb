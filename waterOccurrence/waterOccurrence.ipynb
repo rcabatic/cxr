{
 "cells": [
  {
   "cell_type": "markdown",
   "metadata": {},
   "source": [
    "# 3.0 Water Occurrence"
   ]
  },
  {
   "cell_type": "markdown",
   "metadata": {},
   "source": [
    "The intertidal grid that was generated in the previous step will now be used to produce a water occurrence analysis. The water occurrence functions will run for each individual cell, producing a seperate image for each cell."
   ]
  },
  {
   "cell_type": "markdown",
   "metadata": {},
   "source": [
    "## 3.1 Python Setup"
   ]
  },
  {
   "cell_type": "markdown",
   "metadata": {},
   "source": [
    "We need to import the appropriate modules into python:"
   ]
  },
  {
   "cell_type": "code",
   "execution_count": 1,
   "metadata": {},
   "outputs": [],
   "source": [
    "# Standard library imports\n",
    "import datetime\n",
    "import time\n",
    "import os\n",
    "\n",
    "# Import Earth Engine\n",
    "import ee\n",
    "\n",
    "# Import Coast X-Ray Module\n",
    "import cxrWaterOccurrence as cxr\n",
    "cxr.ee = ee\n"
   ]
  },
  {
   "cell_type": "markdown",
   "metadata": {},
   "source": [
    "Then, Google Earth Engine needs to be initialised (GEE needs to be authenticated before this step)."
   ]
  },
  {
   "cell_type": "code",
   "execution_count": 2,
   "metadata": {},
   "outputs": [
    {
     "name": "stdout",
     "output_type": "stream",
     "text": [
      "The Earth Engine package initialized successfully!\n"
     ]
    }
   ],
   "source": [
    "# Initalise GEE\n",
    "try:\n",
    "  ee.Initialize()\n",
    "  print('The Earth Engine package initialized successfully!')\n",
    "except ee.EEException as e:\n",
    "  print('The Earth Engine package failed to initialize!')\n",
    "except:\n",
    "    print(\"Unexpected error:\", sys.exc_info()[0])\n",
    "    raise"
   ]
  },
  {
   "cell_type": "markdown",
   "metadata": {},
   "source": [
    "## 3.2 User inputs"
   ]
  },
  {
   "cell_type": "markdown",
   "metadata": {},
   "source": [
    "The requires information from the user with regards GEE account inforomation, location of the intertidal grid (and its resolution), a AoI name, the start and end dates of the analysis, and also the location that the image collection should be placed on GEE."
   ]
  },
  {
   "cell_type": "code",
   "execution_count": 3,
   "metadata": {},
   "outputs": [],
   "source": [
    "### USER INPUT STARTS ###\n",
    "\n",
    "# inputs\n",
    "#your GEE username\n",
    "user = \"rum\" # replace with username\n",
    "\n",
    "# the path to the intertidal grid on GEE\n",
    "intertidalGridPath = 'Grid/ISEA3H_4_Hawaii' #\"GlobalGrid/AoI/ISEA3H_12_UKIre\"\n",
    "\n",
    "# the resolution of the grid\n",
    "cxr.gridResolution = 4\n",
    "\n",
    "# name of area of interest\n",
    "aoiName = 'Hawaii'\n",
    "\n",
    "# start date for the analysis\n",
    "cxr.startDate = '2015-09-01'\n",
    "\n",
    "# end date for the analysis (automatically set as today's date)\n",
    "cxr.endDate = str(datetime.date.today())\n",
    "# cxr.endDate = '2019-09-30'\n",
    "                 \n",
    "# outputs\n",
    "# the folder path you wish to export the water occurrence image collection to\n",
    "exportFolderPath = \"CoastXRayPython/Outputs\"\n",
    "\n",
    "# the folder path you wish to export the water occurrence feature collection to\n",
    "exportFolderPathGridCellSummary = \"CoastXRayPython/GridCellSummary\"\n",
    "\n",
    "# the folder path you wish to export the temporary water occurrence feature collection to\n",
    "#exportFolderPathGridCellSummaryTemp = \"CoastXRayPython/GridCellSummaryTemp\"\n",
    "exportFolderPathGridCellSummaryTemp = f'users/{user}/CoastXRayPython/GridCellSummaryTemp'\n",
    "\n",
    "\n",
    "### USER INPUT ENDS ###\n"
   ]
  },
  {
   "cell_type": "markdown",
   "metadata": {},
   "source": [
    "## 3.3 GEE Collection Directory\n",
    "\n",
    "An empty image collection needs to be created on GEE in an appropriate folder that will recieve the output images:"
   ]
  },
  {
   "cell_type": "code",
   "execution_count": 4,
   "metadata": {},
   "outputs": [
    {
     "name": "stdout",
     "output_type": "stream",
     "text": [
      "stdout: Asset users/rum/CoastXRayPython/Outputs/Hawaii_2015-09-01_2025-04-18 already exists.\n",
      "\n",
      "stderr: \n",
      "return code: 0\n"
     ]
    }
   ],
   "source": [
    "# Creates the folders and image collection on GEE to recieve the outputs\n",
    "\n",
    "# Create the path\n",
    "exportCollection = aoiName + '_' + cxr.startDate + '_' + cxr.endDate\n",
    "\n",
    "# Create the export collection\n",
    "os.system(\"earthengine create collection users/\" + user + \"/\" + exportFolderPath + \"/\" + exportCollection + \" -p\")\n",
    "os.system(\"earthengine create folder users/\" + user + \"/\" + exportFolderPathGridCellSummary + \"/\" + exportCollection + \" -p\")\n",
    "os.system(\"earthengine create folder users/\" + user + \"/\" + exportFolderPathGridCellSummaryTemp + \"/\" + exportCollection + \" -p\")\n",
    "\n",
    "import subprocess\n",
    "\n",
    "result = subprocess.run([\"earthengine\", \"create\", \"collection\", \n",
    "                         f\"users/{user}/{exportFolderPath}/{exportCollection}\", \"-p\"],\n",
    "                        capture_output=True, text=True)\n",
    "\n",
    "print(\"stdout:\", result.stdout)\n",
    "print(\"stderr:\", result.stderr)\n",
    "print(\"return code:\", result.returncode)\n"
   ]
  },
  {
   "cell_type": "markdown",
   "metadata": {},
   "source": [
    "## 3.4 Intertidal Grid and Sentinel 2 Image Collection"
   ]
  },
  {
   "cell_type": "markdown",
   "metadata": {},
   "source": [
    "The intertidal grid needs to be accessed and then stored as a Feature Collection:"
   ]
  },
  {
   "cell_type": "code",
   "execution_count": 5,
   "metadata": {},
   "outputs": [
    {
     "name": "stdout",
     "output_type": "stream",
     "text": [
      "The grid consists of 2 intertidal grid cells.\n"
     ]
    }
   ],
   "source": [
    "# Construct the path to the intertidal grid\n",
    "intertidalGrid = \"users/\" + user + \"/\" + intertidalGridPath\n",
    "intertidalGrid = ee.FeatureCollection(intertidalGrid)\n",
    "intertidalGridSize = intertidalGrid.size().getInfo()\n",
    "\n",
    "print('The grid consists of ' + str(intertidalGridSize) + ' intertidal grid cells.')\n"
   ]
  },
  {
   "cell_type": "markdown",
   "metadata": {},
   "source": [
    "The Sentinel 2 image collection is created then filtered firstly by cloud cover (images with cloud cover less then 90 are retained), then by time (using the start and end date set in 3.1), then by location (using the intertidal grid):"
   ]
  },
  {
   "cell_type": "code",
   "execution_count": 6,
   "metadata": {},
   "outputs": [],
   "source": [
    "# Step 1: Filter images with QA60 band\n",
    "def has_QA60(img):\n",
    "    return img.bandNames().contains('QA60')\n",
    "\n",
    "gridBounds = ee.Feature(intertidalGrid.union().first()).bounds().geometry()\n",
    "\n",
    "collection = ee.ImageCollection(\"COPERNICUS/S2\")\\\n",
    "    .filterMetadata('CLOUD_COVERAGE_ASSESSMENT', 'not_greater_than', 90)\\\n",
    "    .filterDate(cxr.startDate, cxr.endDate)\\\n",
    "    .filterBounds(gridBounds)\\\n",
    "    .filter(ee.Filter.eq('SPACECRAFT_NAME', 'Sentinel-2A'))\\\n",
    "    .filter(ee.Filter.eq('SENSING_ORBIT_DIRECTION', 'DESCENDING'))\n",
    "\n",
    "# Filter for QA60 presence before map\n",
    "collection = collection.filter(ee.Filter.listContains('system:band_names', 'QA60'))\n",
    "\n",
    "# Now it's safe to map\n",
    "collectionCloudMasked = collection.map(cxr.cloudMask)\n",
    "\n",
    "\n",
    "# # Create the inital Sentinel 2-1C collection\n",
    "# gridBounds = ee.Feature(intertidalGrid.union().first()).bounds().geometry()\n",
    "\n",
    "# collection = ee.ImageCollection(\"COPERNICUS/S2\")\\\n",
    "#     .filterMetadata('CLOUD_COVERAGE_ASSESSMENT', 'not_greater_than', 90)\\\n",
    "#     .filterDate(cxr.startDate,cxr.endDate)\\\n",
    "#     .filterBounds(gridBounds)\n",
    "\n",
    "# print('There are ' + str(collection.size().getInfo()) + ' images in the collection.')"
   ]
  },
  {
   "cell_type": "markdown",
   "metadata": {},
   "source": [
    "## 3.5 Cloud Masking"
   ]
  },
  {
   "cell_type": "markdown",
   "metadata": {},
   "source": [
    "Imagery is collected from the Sentinel 2 in all weather conditions. This means that images can be collected where the Earth's surface is partly, or even completely, obscured by clouds. Furthemore, cloud shadows can also create inaccuracies within the analysis, producing erroneous results. \n",
    "\n",
    "To limit these issues, firstly, images with extensive cloud cover are excluded from the image collection (see above). Secondly, clouds within the remaining Sentinel 2 images are removed (otherwise known as cloud masking). This is done using the Quality Assurrance band (QA60) in the image. The clouds are identified and then masked out of the image, and stored within the collectionCloudMasked image collection.\n",
    "\n",
    "*Note that there are a number of ways to mask the cloud in an image - the approach used here is probably the simplest and could be improved in future versions*"
   ]
  },
  {
   "cell_type": "code",
   "execution_count": 7,
   "metadata": {},
   "outputs": [],
   "source": [
    "collectionCloudMasked = ee.ImageCollection(collection).map(cxr.cloudMask) "
   ]
  },
  {
   "cell_type": "markdown",
   "metadata": {},
   "source": [
    "## 3.6 Water Occurrence Analysis"
   ]
  },
  {
   "cell_type": "markdown",
   "metadata": {},
   "source": [
    "The script below uses a for loop, which means that the script runs on each of the grid cells within the intertidal grid sequentially. On each grid cell the following steps are conducted:\n"
   ]
  },
  {
   "cell_type": "code",
   "execution_count": 8,
   "metadata": {},
   "outputs": [
    {
     "name": "stdout",
     "output_type": "stream",
     "text": [
      "Started:4_774_Hawaii_2015-09-01_2025-04-18\n",
      "Started:4_774_Hawaii_2015-09-01_2025-04-18_GCS\n",
      "Started export: CoastXRay CGS: 774, ID: SMRI2DQ7LJAL564TWJY3T7EE\n",
      "Started:4_784_Hawaii_2015-09-01_2025-04-18\n",
      "Started:4_784_Hawaii_2015-09-01_2025-04-18_GCS\n",
      "Started export: CoastXRay CGS: 784, ID: 4ZQXNCDWVWQMW7O34ZRBUW4K\n"
     ]
    }
   ],
   "source": [
    "def mergeGeometries(collection):\n",
    "    \"\"\" Merge the geometries of many images. Return ee.Geometry \"\"\"\n",
    "    imlist = collection.toList(collection.size())\n",
    "\n",
    "    first = ee.Image(imlist.get(0))\n",
    "    rest = imlist.slice(1)\n",
    "\n",
    "    def wrap(img, ini):\n",
    "        ini = ee.Geometry(ini)\n",
    "        img = ee.Image(img)\n",
    "        geom = img.geometry()\n",
    "        union = geom.union(ini)\n",
    "        return union.dissolve()\n",
    "\n",
    "    return ee.Geometry(rest.iterate(wrap, first.geometry()))\n",
    "\n",
    "#Convert the feature collection to a list to allow looping:\n",
    "intertidalGridList = intertidalGrid.toList(intertidalGridSize)\n",
    "\n",
    "#an empty list to receive the GEE task ids\n",
    "taskIDList = []\n",
    "\n",
    "#an empty list to recieve the features of each cell\n",
    "gridFeaturesList = []\n",
    "\n",
    "#get a list of number to allow the looping through the feature collection\n",
    "for i in range(intertidalGridSize):\n",
    "# for i in range(1): #use this if you just want to test it on a single grid cell\n",
    "    #get the grid cell feature\n",
    "    cxr.gridCellFeature = ee.Feature(intertidalGridList.get(i))\n",
    "    \n",
    "    #get the geometry of the grid cell\n",
    "    cxr.gridCell = ee.Feature(intertidalGridList.get(i)).buffer(20).geometry()\n",
    "    \n",
    "#STEP 1: Filter the collection to the boundary of the feature\n",
    "    \n",
    "    #SENTINEL2-1C\n",
    "    cxr.gridCellCollection = collectionCloudMasked.filterBounds(cxr.gridCell)\n",
    "    \n",
    "#STEP 2: Clip the images in the collection to the extent of the grid cell\n",
    "    #SENTINEL2-1C\n",
    "    cxr.gridCellCollection = cxr.gridCellCollection.map(cxr.gridCellCollectionClip)\n",
    "\n",
    "#STEP 3: Remove the duplicate images from the collection\n",
    "\n",
    "    #SENTINEL2-1C\n",
    "    cxr.gridCellCollection = cxr.gridCellCollection.map(cxr.removeDuplicates)\n",
    "    cxr.gridCellCollection = ee.ImageCollection(cxr.gridCellCollection).distinct('dateId')\n",
    "\n",
    "#STEP 4: Mosaic the images that occur on the same day/time    \n",
    "\n",
    "    #SENTINEL2-1C\n",
    "    cxr.gridCellCollection = cxr.mosaicSameDay(ee.ImageCollection(cxr.gridCellCollection))\n",
    "        \n",
    "#STEP 5: Calculate the area of the image within the grid cell and set it as a property of the image\n",
    "\n",
    "    #SENTINEL2-1C   \n",
    "    cxr.gridCellCollection = cxr.gridCellCollection.map(cxr.setImageArea)\n",
    "\n",
    "#STEP 6: Filter out the images that do not sufficiently cover the grid cell\n",
    "\n",
    "    #the cloud cover filter value (%) to start \n",
    "    startFilter = 99 #up to 99.5?\n",
    "    \n",
    "    #the interval to reduce the cloud cover filter by each iteration\n",
    "    interval = 0.5\n",
    "    \n",
    "    #number of filters to test\n",
    "    iterations = 5\n",
    "    \n",
    "    #the minimum mumber of images required to make the water occurrence output - default = 30\n",
    "    minImages = 30\n",
    "    \n",
    "    #the default cloud cover filter value (%) if a better one cannot be found\n",
    "    defaultFilter = 90\n",
    "    \n",
    "    #find the cloud cover value\n",
    "    cxr.cellCloudCoverFilterValue = cxr.setFilterDecending(cxr.gridCellCollection, startFilter, interval, iterations, minImages, defaultFilter)\n",
    "    \n",
    "#STEP 7: Filter the collection based on the cloud cover value\n",
    "    cxr.gridCellCollection = cxr.gridCellCollection.filterMetadata('gridCellCoverage', 'greater_than', cxr.cellCloudCoverFilterValue)\n",
    "\n",
    "#STEP 8: Convert the images in the collection into NDWI images and identify the water in each image\n",
    "    \n",
    "    #calulate the NDWI for each image\n",
    "    gridCellNDWICollection = ee.ImageCollection(cxr.gridCellCollection).map(cxr.NDWI)\n",
    "    \n",
    "    #set the threshold for water extraction from the NDWI image\n",
    "    cxr.ndwiThreshold = 0.2\n",
    "\n",
    "    gridCellNDWIWaterCollection = gridCellNDWICollection.map(cxr.ndwiWater)\n",
    "    \n",
    "#STEP 9: Calculate the water occurrence of the collection\n",
    "\n",
    "    #count the numer of water occurrences at each pixel\n",
    "    waterReduceSum = gridCellNDWIWaterCollection.reduce(ee.Reducer.sum()).int16().rename('waterOccurrenceCount')\n",
    "    \n",
    "    #remove pixels that only have 1 for water occurence - QA check - review this\n",
    "    waterReduceSum = waterReduceSum.where(waterReduceSum.eq(1), 0)\n",
    "\n",
    "    #calculates the water occurence % \n",
    "    cxr.gridCellNDWICollectionSize = gridCellNDWICollection.size()\n",
    "    waterPercentage = waterReduceSum.divide(cxr.gridCellNDWICollectionSize).multiply(100).rename('waterOccurrencePercentage').addBands(waterReduceSum)\n",
    "\n",
    "    #adds the image collection size as a band\n",
    "    mask = waterPercentage.select('waterOccurrenceCount').mask()\n",
    "    \n",
    "    #add a band within the water occurrence image that holds the number of images used to calculate the water occurrence\n",
    "    bandCollectionLength = ee.Image.constant(cxr.gridCellNDWICollectionSize).uint16().rename('numberOfImagesAnalysed').updateMask(mask)\n",
    "    gridCellWaterOccurrenceOutput = waterPercentage.addBands(bandCollectionLength)\n",
    "    \n",
    "#STEP 10: Create a median NDWI band and add the band to the water occurrence image\n",
    "    \n",
    "    #calculate the median NDWI\n",
    "    ndwiMedian = gridCellNDWICollection.median().rename('ndwiMedian')\n",
    "    \n",
    "    #add ndwiMedian as a band to the water occurrence image\n",
    "    gridCellWaterOccurrenceOutput = gridCellWaterOccurrenceOutput.addBands(ndwiMedian)\n",
    "    \n",
    "# #STEP 11: Create a feature collection, with each feature containing information about the images used\n",
    "    \n",
    "    #get the grid cell number and convert it to string\n",
    "    cxr.cellNumber = cxr.gridCellFeature.get('cell').getInfo()    \n",
    "    cxr.cellNumberStr = str(cxr.cellNumber)\n",
    "    \n",
    "    #get the date of the earliest image \n",
    "    cxr.earliestImage = ee.Date(cxr.gridCellCollection.sort('system:time_start', True).first().get('dateTime')).format(\"YYYY-MM-dd\")\n",
    "    \n",
    "    #get the date of the earliest image \n",
    "    cxr.latestImage = ee.Date(cxr.gridCellCollection.sort('system:time_start', False).first().get('dateTime')).format(\"YYYY-MM-dd\")\n",
    "    \n",
    "    #add the image metadata to the feature properties\n",
    "    gridCellWaterOccurrenceOutput = gridCellWaterOccurrenceOutput\\\n",
    "    .set('numberOfImagesAnalysed', ee.Number(cxr.gridCellNDWICollectionSize))\\\n",
    "    .set('analysisStart', ee.Date(cxr.startDate).format(\"YYYY-MM-dd\"))\\\n",
    "    .set('analysisEnd', ee.Date(cxr.endDate).format(\"YYYY-MM-dd\"))\\\n",
    "    .set('earliestImageAnalysed', cxr.earliestImage)\\\n",
    "    .set('latestImageAnalysed', cxr.latestImage)\\\n",
    "    .set('cellCloudCoverThreshold', ee.Number(cxr.cellCloudCoverFilterValue))\\\n",
    "    .set('cell', ee.Number(cxr.cellNumber))\\\n",
    "    .set('cellResolution', ee.Number(cxr.gridResolution))\\\n",
    "      \n",
    "#STEP 12 - Add the grid cell feature to a collection of the other grid cell features \n",
    "\n",
    "    #get the list of dates\n",
    "    dateList = cxr.gridCellCollection.aggregate_array('dateTime')\n",
    "\n",
    "    #append the cell geometry and properties to the main list\n",
    "    #gridCellFeatures = ee.List(dateList).map(cxr.featureProperties)\n",
    "    gridCellFeatures = ee.List(dateList).map(lambda d: ee.Feature(None, {'dateTime': d})) #TEST!\n",
    "    \n",
    "#STEP 13: Export images\n",
    "\n",
    "    #EXPORT\n",
    "    #generate the export file name\n",
    "    exportFileName =  str(cxr.gridResolution) + \"_\" + cxr.cellNumberStr + \"_\" + aoiName + \"_\" + cxr.startDate + \"_\" + cxr.endDate\n",
    "    exportPath = \"users/\" + user + \"/\" + exportFolderPath + \"/\" + exportCollection + \"/\" + exportFileName \n",
    "    exportPathGrid = \"users/\" + user + \"/\" + exportFolderPathGridCellSummaryTemp +  \"/\" + exportCollection + \"/\" + exportFileName + '_GCS'\n",
    "    \n",
    "    #create the export task and start it   \n",
    "    task = ee.batch.Export.image.toAsset(**{\n",
    "        'image': gridCellWaterOccurrenceOutput,\n",
    "        'description': \"CoastXRay: \" + cxr.cellNumberStr, \n",
    "        'assetId': exportPath,\n",
    "        'region': cxr.gridCell.getInfo()['coordinates'],\n",
    "        'scale': 10\n",
    "        })\n",
    "    task.start()\n",
    "    print('Started:' + exportFileName)\n",
    "    \n",
    "    #get the task ID and append it to the list\n",
    "    taskID=task.status()['id']\n",
    "    taskIDList.append(taskID)\n",
    "\n",
    "    task = ee.batch.Export.table.toAsset(**{\n",
    "            'collection': ee.FeatureCollection(gridCellFeatures).sort('dateMilli'), \n",
    "            'description': \"CoastXRay CGS: \" + cxr.cellNumberStr,\n",
    "            'assetId': exportPathGrid\n",
    "            })\n",
    "\n",
    "    task.start()\n",
    "    print('Started:' + exportFileName + '_GCS')\n",
    "    print(f\"Started export: {task.status()['description']}, ID: {task.status()['id']}\")"
   ]
  },
  {
   "cell_type": "code",
   "execution_count": 9,
   "metadata": {},
   "outputs": [
    {
     "data": {
      "text/plain": [
       "[{'type': 'Folder',\n",
       "  'id': 'projects/earthengine-legacy/assets/users/rum/users/rum/CoastXRayPython/GridCellSummaryTemp/Hawaii_2015-09-01_2025-04-17'},\n",
       " {'type': 'Folder',\n",
       "  'id': 'projects/earthengine-legacy/assets/users/rum/users/rum/CoastXRayPython/GridCellSummaryTemp/Hawaii_2015-09-01_2025-04-18'}]"
      ]
     },
     "execution_count": 9,
     "metadata": {},
     "output_type": "execute_result"
    }
   ],
   "source": [
    "folder_path = f'users/{user}/{exportFolderPathGridCellSummaryTemp}'\n",
    "assetList = ee.data.getList({'id': folder_path})\n",
    "assetList"
   ]
  },
  {
   "cell_type": "markdown",
   "metadata": {},
   "source": [
    "## 3.7 Merge Grid Cell Summary Features\n",
    "\n",
    "Each of the grid cells have a feature collection produced which summaries the images used. To make this easier to manage it is best to merge the all the feature collections in to one master dataset. \n",
    "\n",
    "**This should be run after all the cells have been processed on GEE.**\n"
   ]
  },
  {
   "cell_type": "code",
   "execution_count": 12,
   "metadata": {},
   "outputs": [
    {
     "name": "stdout",
     "output_type": "stream",
     "text": [
      "Skipping non-table asset: projects/earthengine-legacy/assets/users/rum/CoastXRayPython/GridCellSummaryTemp/Hawaii_2015-09-01_2025-04-11 (type: Folder)\n",
      "Skipping non-table asset: projects/earthengine-legacy/assets/users/rum/CoastXRayPython/GridCellSummaryTemp/Hawaii_2015-09-01_2025-04-15 (type: Folder)\n",
      "Skipping non-table asset: projects/earthengine-legacy/assets/users/rum/CoastXRayPython/GridCellSummaryTemp/Hawaii_2015-09-01_2025-04-17 (type: Folder)\n",
      "Export task started for: Hawaii_2015-09-01_2025-04-18\n"
     ]
    }
   ],
   "source": [
    "# Get the list of assets in the temporary summary folder\n",
    "assetList = ee.data.getList({'id': exportFolderPathGridCellSummaryTemp})\n",
    "\n",
    "# Start with an empty FeatureCollection to merge into\n",
    "merged_fc = ee.FeatureCollection([])\n",
    "\n",
    "# Loop through assets and merge only valid FeatureCollections (type == TABLE)\n",
    "for asset in assetList:\n",
    "    if asset.get('type') == 'TABLE':\n",
    "        asset_id = asset.get('id')\n",
    "        try:\n",
    "            fc = ee.FeatureCollection(asset_id)\n",
    "            merged_fc = merged_fc.merge(fc)\n",
    "            print(f\"Merged asset: {asset_id}\")\n",
    "        except Exception as e:\n",
    "            print(f\"Skipping asset due to error: {asset_id}\\n{e}\")\n",
    "    else:\n",
    "        print(f\"Skipping non-table asset: {asset.get('id')} (type: {asset.get('type')})\")\n",
    "\n",
    "# Prepare export path\n",
    "exportAssetId = f\"users/{user}/{exportFolderPathGridCellSummary}/{exportCollection}\"\n",
    "\n",
    "# Check if asset already exists\n",
    "parentFolder = f\"users/{user}/{exportFolderPathGridCellSummary}\"\n",
    "existing_assets = ee.data.getList({'id': parentFolder})\n",
    "existing_ids = [a['id'] for a in existing_assets]\n",
    "\n",
    "if exportAssetId in existing_ids:\n",
    "    print(f\"Asset already exists: {exportAssetId} — skipping export.\")\n",
    "else:\n",
    "    task = ee.batch.Export.table.toAsset(**{\n",
    "        'collection': merged_fc,\n",
    "        'description': \"Grid Cell Summary Feature Collection\",\n",
    "        'assetId': exportAssetId\n",
    "    })\n",
    "    task.start()\n",
    "    print(f\"Export task started for: {exportCollection}\")\n"
   ]
  },
  {
   "cell_type": "code",
   "execution_count": 10,
   "metadata": {},
   "outputs": [
    {
     "ename": "EEException",
     "evalue": "Collection.loadTable: Expected asset 'projects/earthengine-legacy/assets/users/rum/CoastXRayPython/GridCellSummaryTemp/Hawaii_2015-09-01_2025-04-11' to be a Collection, found 'IndexedFolder'.",
     "output_type": "error",
     "traceback": [
      "\u001b[1;31m---------------------------------------------------------------------------\u001b[0m",
      "\u001b[1;31mHttpError\u001b[0m                                 Traceback (most recent call last)",
      "\u001b[1;32m~\\anaconda3\\envs\\coastxray\\lib\\site-packages\\ee\\data.py\u001b[0m in \u001b[0;36m_execute_cloud_call\u001b[1;34m(call, num_retries)\u001b[0m\n\u001b[0;32m    327\u001b[0m   \u001b[1;32mtry\u001b[0m\u001b[1;33m:\u001b[0m\u001b[1;33m\u001b[0m\u001b[1;33m\u001b[0m\u001b[0m\n\u001b[1;32m--> 328\u001b[1;33m     \u001b[1;32mreturn\u001b[0m \u001b[0mcall\u001b[0m\u001b[1;33m.\u001b[0m\u001b[0mexecute\u001b[0m\u001b[1;33m(\u001b[0m\u001b[0mnum_retries\u001b[0m\u001b[1;33m=\u001b[0m\u001b[0mnum_retries\u001b[0m\u001b[1;33m)\u001b[0m\u001b[1;33m\u001b[0m\u001b[1;33m\u001b[0m\u001b[0m\n\u001b[0m\u001b[0;32m    329\u001b[0m   \u001b[1;32mexcept\u001b[0m \u001b[0mgoogleapiclient\u001b[0m\u001b[1;33m.\u001b[0m\u001b[0merrors\u001b[0m\u001b[1;33m.\u001b[0m\u001b[0mHttpError\u001b[0m \u001b[1;32mas\u001b[0m \u001b[0me\u001b[0m\u001b[1;33m:\u001b[0m\u001b[1;33m\u001b[0m\u001b[1;33m\u001b[0m\u001b[0m\n",
      "\u001b[1;32m~\\anaconda3\\envs\\coastxray\\lib\\site-packages\\googleapiclient\\_helpers.py\u001b[0m in \u001b[0;36mpositional_wrapper\u001b[1;34m(*args, **kwargs)\u001b[0m\n\u001b[0;32m    133\u001b[0m                     \u001b[0mlogger\u001b[0m\u001b[1;33m.\u001b[0m\u001b[0mwarning\u001b[0m\u001b[1;33m(\u001b[0m\u001b[0mmessage\u001b[0m\u001b[1;33m)\u001b[0m\u001b[1;33m\u001b[0m\u001b[1;33m\u001b[0m\u001b[0m\n\u001b[1;32m--> 134\u001b[1;33m             \u001b[1;32mreturn\u001b[0m \u001b[0mwrapped\u001b[0m\u001b[1;33m(\u001b[0m\u001b[1;33m*\u001b[0m\u001b[0margs\u001b[0m\u001b[1;33m,\u001b[0m \u001b[1;33m**\u001b[0m\u001b[0mkwargs\u001b[0m\u001b[1;33m)\u001b[0m\u001b[1;33m\u001b[0m\u001b[1;33m\u001b[0m\u001b[0m\n\u001b[0m\u001b[0;32m    135\u001b[0m \u001b[1;33m\u001b[0m\u001b[0m\n",
      "\u001b[1;32m~\\anaconda3\\envs\\coastxray\\lib\\site-packages\\googleapiclient\\http.py\u001b[0m in \u001b[0;36mexecute\u001b[1;34m(self, http, num_retries)\u001b[0m\n\u001b[0;32m    914\u001b[0m         \u001b[1;32mif\u001b[0m \u001b[0mresp\u001b[0m\u001b[1;33m.\u001b[0m\u001b[0mstatus\u001b[0m \u001b[1;33m>=\u001b[0m \u001b[1;36m300\u001b[0m\u001b[1;33m:\u001b[0m\u001b[1;33m\u001b[0m\u001b[1;33m\u001b[0m\u001b[0m\n\u001b[1;32m--> 915\u001b[1;33m             \u001b[1;32mraise\u001b[0m \u001b[0mHttpError\u001b[0m\u001b[1;33m(\u001b[0m\u001b[0mresp\u001b[0m\u001b[1;33m,\u001b[0m \u001b[0mcontent\u001b[0m\u001b[1;33m,\u001b[0m \u001b[0muri\u001b[0m\u001b[1;33m=\u001b[0m\u001b[0mself\u001b[0m\u001b[1;33m.\u001b[0m\u001b[0muri\u001b[0m\u001b[1;33m)\u001b[0m\u001b[1;33m\u001b[0m\u001b[1;33m\u001b[0m\u001b[0m\n\u001b[0m\u001b[0;32m    916\u001b[0m         \u001b[1;32mreturn\u001b[0m \u001b[0mself\u001b[0m\u001b[1;33m.\u001b[0m\u001b[0mpostproc\u001b[0m\u001b[1;33m(\u001b[0m\u001b[0mresp\u001b[0m\u001b[1;33m,\u001b[0m \u001b[0mcontent\u001b[0m\u001b[1;33m)\u001b[0m\u001b[1;33m\u001b[0m\u001b[1;33m\u001b[0m\u001b[0m\n",
      "\u001b[1;31mHttpError\u001b[0m: <HttpError 400 when requesting https://earthengine.googleapis.com/v1alpha/projects/earthengine-legacy/table:export?alt=json returned \"Collection.loadTable: Expected asset 'projects/earthengine-legacy/assets/users/rum/CoastXRayPython/GridCellSummaryTemp/Hawaii_2015-09-01_2025-04-11' to be a Collection, found 'IndexedFolder'.\". Details: \"Collection.loadTable: Expected asset 'projects/earthengine-legacy/assets/users/rum/CoastXRayPython/GridCellSummaryTemp/Hawaii_2015-09-01_2025-04-11' to be a Collection, found 'IndexedFolder'.\">",
      "\nDuring handling of the above exception, another exception occurred:\n",
      "\u001b[1;31mEEException\u001b[0m                               Traceback (most recent call last)",
      "\u001b[1;32m<ipython-input-10-9cb8366d75b6>\u001b[0m in \u001b[0;36m<module>\u001b[1;34m\u001b[0m\n\u001b[0;32m     22\u001b[0m             })\n\u001b[0;32m     23\u001b[0m \u001b[1;33m\u001b[0m\u001b[0m\n\u001b[1;32m---> 24\u001b[1;33m \u001b[0mtask\u001b[0m\u001b[1;33m.\u001b[0m\u001b[0mstart\u001b[0m\u001b[1;33m(\u001b[0m\u001b[1;33m)\u001b[0m\u001b[1;33m\u001b[0m\u001b[1;33m\u001b[0m\u001b[0m\n\u001b[0m",
      "\u001b[1;32m~\\anaconda3\\envs\\coastxray\\lib\\site-packages\\ee\\batch.py\u001b[0m in \u001b[0;36mstart\u001b[1;34m(self)\u001b[0m\n\u001b[0;32m     93\u001b[0m       \u001b[0mresult\u001b[0m \u001b[1;33m=\u001b[0m \u001b[0mdata\u001b[0m\u001b[1;33m.\u001b[0m\u001b[0mexportMap\u001b[0m\u001b[1;33m(\u001b[0m\u001b[0mself\u001b[0m\u001b[1;33m.\u001b[0m\u001b[0m_request_id\u001b[0m\u001b[1;33m,\u001b[0m \u001b[0mself\u001b[0m\u001b[1;33m.\u001b[0m\u001b[0mconfig\u001b[0m\u001b[1;33m)\u001b[0m\u001b[1;33m\u001b[0m\u001b[1;33m\u001b[0m\u001b[0m\n\u001b[0;32m     94\u001b[0m     \u001b[1;32melif\u001b[0m \u001b[0mself\u001b[0m\u001b[1;33m.\u001b[0m\u001b[0mtask_type\u001b[0m \u001b[1;33m==\u001b[0m \u001b[0mTask\u001b[0m\u001b[1;33m.\u001b[0m\u001b[0mType\u001b[0m\u001b[1;33m.\u001b[0m\u001b[0mEXPORT_TABLE\u001b[0m\u001b[1;33m:\u001b[0m\u001b[1;33m\u001b[0m\u001b[1;33m\u001b[0m\u001b[0m\n\u001b[1;32m---> 95\u001b[1;33m       \u001b[0mresult\u001b[0m \u001b[1;33m=\u001b[0m \u001b[0mdata\u001b[0m\u001b[1;33m.\u001b[0m\u001b[0mexportTable\u001b[0m\u001b[1;33m(\u001b[0m\u001b[0mself\u001b[0m\u001b[1;33m.\u001b[0m\u001b[0m_request_id\u001b[0m\u001b[1;33m,\u001b[0m \u001b[0mself\u001b[0m\u001b[1;33m.\u001b[0m\u001b[0mconfig\u001b[0m\u001b[1;33m)\u001b[0m\u001b[1;33m\u001b[0m\u001b[1;33m\u001b[0m\u001b[0m\n\u001b[0m\u001b[0;32m     96\u001b[0m     \u001b[1;32melif\u001b[0m \u001b[0mself\u001b[0m\u001b[1;33m.\u001b[0m\u001b[0mtask_type\u001b[0m \u001b[1;33m==\u001b[0m \u001b[0mTask\u001b[0m\u001b[1;33m.\u001b[0m\u001b[0mType\u001b[0m\u001b[1;33m.\u001b[0m\u001b[0mEXPORT_VIDEO\u001b[0m\u001b[1;33m:\u001b[0m\u001b[1;33m\u001b[0m\u001b[1;33m\u001b[0m\u001b[0m\n\u001b[0;32m     97\u001b[0m       \u001b[0mresult\u001b[0m \u001b[1;33m=\u001b[0m \u001b[0mdata\u001b[0m\u001b[1;33m.\u001b[0m\u001b[0mexportVideo\u001b[0m\u001b[1;33m(\u001b[0m\u001b[0mself\u001b[0m\u001b[1;33m.\u001b[0m\u001b[0m_request_id\u001b[0m\u001b[1;33m,\u001b[0m \u001b[0mself\u001b[0m\u001b[1;33m.\u001b[0m\u001b[0mconfig\u001b[0m\u001b[1;33m)\u001b[0m\u001b[1;33m\u001b[0m\u001b[1;33m\u001b[0m\u001b[0m\n",
      "\u001b[1;32m~\\anaconda3\\envs\\coastxray\\lib\\site-packages\\ee\\data.py\u001b[0m in \u001b[0;36mexportTable\u001b[1;34m(request_id, params)\u001b[0m\n\u001b[0;32m   1325\u001b[0m   \"\"\"\n\u001b[0;32m   1326\u001b[0m   \u001b[0mparams\u001b[0m \u001b[1;33m=\u001b[0m \u001b[0mparams\u001b[0m\u001b[1;33m.\u001b[0m\u001b[0mcopy\u001b[0m\u001b[1;33m(\u001b[0m\u001b[1;33m)\u001b[0m\u001b[1;33m\u001b[0m\u001b[1;33m\u001b[0m\u001b[0m\n\u001b[1;32m-> 1327\u001b[1;33m   return _prepare_and_run_export(\n\u001b[0m\u001b[0;32m   1328\u001b[0m       \u001b[0mrequest_id\u001b[0m\u001b[1;33m,\u001b[0m \u001b[0mparams\u001b[0m\u001b[1;33m,\u001b[0m\u001b[1;33m\u001b[0m\u001b[1;33m\u001b[0m\u001b[0m\n\u001b[0;32m   1329\u001b[0m       _get_cloud_api_resource().projects().table().export)\n",
      "\u001b[1;32m~\\anaconda3\\envs\\coastxray\\lib\\site-packages\\ee\\data.py\u001b[0m in \u001b[0;36m_prepare_and_run_export\u001b[1;34m(request_id, params, export_endpoint)\u001b[0m\n\u001b[0;32m   1419\u001b[0m         params['expression'], for_cloud_api=True)\n\u001b[0;32m   1420\u001b[0m   \u001b[0mnum_retries\u001b[0m \u001b[1;33m=\u001b[0m \u001b[0mMAX_RETRIES\u001b[0m \u001b[1;32mif\u001b[0m \u001b[0mrequest_id\u001b[0m \u001b[1;32melse\u001b[0m \u001b[1;36m0\u001b[0m\u001b[1;33m\u001b[0m\u001b[1;33m\u001b[0m\u001b[0m\n\u001b[1;32m-> 1421\u001b[1;33m   return _execute_cloud_call(\n\u001b[0m\u001b[0;32m   1422\u001b[0m       \u001b[0mexport_endpoint\u001b[0m\u001b[1;33m(\u001b[0m\u001b[0mproject\u001b[0m\u001b[1;33m=\u001b[0m\u001b[0m_get_projects_path\u001b[0m\u001b[1;33m(\u001b[0m\u001b[1;33m)\u001b[0m\u001b[1;33m,\u001b[0m \u001b[0mbody\u001b[0m\u001b[1;33m=\u001b[0m\u001b[0mparams\u001b[0m\u001b[1;33m)\u001b[0m\u001b[1;33m,\u001b[0m\u001b[1;33m\u001b[0m\u001b[1;33m\u001b[0m\u001b[0m\n\u001b[0;32m   1423\u001b[0m       num_retries=num_retries)\n",
      "\u001b[1;32m~\\anaconda3\\envs\\coastxray\\lib\\site-packages\\ee\\data.py\u001b[0m in \u001b[0;36m_execute_cloud_call\u001b[1;34m(call, num_retries)\u001b[0m\n\u001b[0;32m    328\u001b[0m     \u001b[1;32mreturn\u001b[0m \u001b[0mcall\u001b[0m\u001b[1;33m.\u001b[0m\u001b[0mexecute\u001b[0m\u001b[1;33m(\u001b[0m\u001b[0mnum_retries\u001b[0m\u001b[1;33m=\u001b[0m\u001b[0mnum_retries\u001b[0m\u001b[1;33m)\u001b[0m\u001b[1;33m\u001b[0m\u001b[1;33m\u001b[0m\u001b[0m\n\u001b[0;32m    329\u001b[0m   \u001b[1;32mexcept\u001b[0m \u001b[0mgoogleapiclient\u001b[0m\u001b[1;33m.\u001b[0m\u001b[0merrors\u001b[0m\u001b[1;33m.\u001b[0m\u001b[0mHttpError\u001b[0m \u001b[1;32mas\u001b[0m \u001b[0me\u001b[0m\u001b[1;33m:\u001b[0m\u001b[1;33m\u001b[0m\u001b[1;33m\u001b[0m\u001b[0m\n\u001b[1;32m--> 330\u001b[1;33m     \u001b[1;32mraise\u001b[0m \u001b[0m_translate_cloud_exception\u001b[0m\u001b[1;33m(\u001b[0m\u001b[0me\u001b[0m\u001b[1;33m)\u001b[0m\u001b[1;33m\u001b[0m\u001b[1;33m\u001b[0m\u001b[0m\n\u001b[0m\u001b[0;32m    331\u001b[0m \u001b[1;33m\u001b[0m\u001b[0m\n\u001b[0;32m    332\u001b[0m \u001b[1;33m\u001b[0m\u001b[0m\n",
      "\u001b[1;31mEEException\u001b[0m: Collection.loadTable: Expected asset 'projects/earthengine-legacy/assets/users/rum/CoastXRayPython/GridCellSummaryTemp/Hawaii_2015-09-01_2025-04-11' to be a Collection, found 'IndexedFolder'."
     ]
    }
   ],
   "source": [
    "# # merge all the grid cell summary features into one feature collection\n",
    "\n",
    "# # get a list of the features in the temporary directory\n",
    "# assetList = ee.data.getList({'id': exportFolderPathGridCellSummaryTemp})\n",
    "\n",
    "# merged_fc = ee.FeatureCollection([])\n",
    "\n",
    "# for asset in assetList:\n",
    "#     asset_id = asset['id']\n",
    "#     merged_fc = merged_fc.merge(ee.FeatureCollection(asset_id))\n",
    "\n",
    "# # count the size and create a list range \n",
    "# assetListSize = ee.List(assetList).size().getInfo()\n",
    "# listRange = list(range(0, assetListSize-1))\n",
    "\n",
    "# # create an empty feature collection\n",
    "# fc = ee.FeatureCollection([])\n",
    "\n",
    "# # get all the features and merge them into one feature collection\n",
    "# for i in listRange:\n",
    "#     fc = fc.merge(ee.FeatureCollection(assetList[i]['id']))  \n",
    "\n",
    "# # export the feature collection\n",
    "# task = ee.batch.Export.table.toAsset(**{\n",
    "#             'collection': fc, \n",
    "#             'description': \"Grid Cell Summary Feature Collection\",\n",
    "#             'assetId': \"users/\" + user + \"/\" + exportFolderPathGridCellSummary + \"/\" + exportCollection\n",
    "#             })\n",
    "\n",
    "# task.start()"
   ]
  },
  {
   "cell_type": "markdown",
   "metadata": {},
   "source": [
    "**END**"
   ]
  }
 ],
 "metadata": {
  "kernelspec": {
   "display_name": "Python 3",
   "language": "python",
   "name": "python3"
  },
  "language_info": {
   "codemirror_mode": {
    "name": "ipython",
    "version": 3
   },
   "file_extension": ".py",
   "mimetype": "text/x-python",
   "name": "python",
   "nbconvert_exporter": "python",
   "pygments_lexer": "ipython3",
   "version": "3.8.3"
  }
 },
 "nbformat": 4,
 "nbformat_minor": 2
}
